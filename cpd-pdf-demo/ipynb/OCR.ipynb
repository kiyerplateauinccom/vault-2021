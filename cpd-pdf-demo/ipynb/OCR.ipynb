{
 "cells": [
  {
   "cell_type": "code",
   "execution_count": 1,
   "id": "imposed-warrant",
   "metadata": {},
   "outputs": [],
   "source": [
    "\n",
    "from PIL import Image\n",
    "import pytesseract\n",
    "pytesseract.pytesseract.tesseract_cmd = r'C:\\Users\\DaveBabbitt\\AppData\\Local\\Programs\\Tesseract-OCR\\tesseract.exe'\n",
    "import sys\n",
    "from pdf2image import convert_from_path\n",
    "import os"
   ]
  },
  {
   "cell_type": "code",
   "execution_count": 2,
   "id": "antique-lightweight",
   "metadata": {},
   "outputs": [],
   "source": [
    "\n",
    "# Path of the pdf\n",
    "PDF_file = '../data/pdf/d.pdf'"
   ]
  },
  {
   "cell_type": "markdown",
   "id": "assured-receipt",
   "metadata": {},
   "source": [
    "\n",
    "## Part #1 : Converting PDF to images"
   ]
  },
  {
   "cell_type": "code",
   "execution_count": 3,
   "id": "favorite-chosen",
   "metadata": {},
   "outputs": [],
   "source": [
    "\n",
    "# Store all the pages of the PDF in a variable\n",
    "pages = convert_from_path(PDF_file, 500)"
   ]
  },
  {
   "cell_type": "code",
   "execution_count": 4,
   "id": "balanced-frank",
   "metadata": {},
   "outputs": [],
   "source": [
    "\n",
    "# Counter to store images of each page of PDF to image\n",
    "image_counter = 1"
   ]
  },
  {
   "cell_type": "code",
   "execution_count": 5,
   "id": "fluid-startup",
   "metadata": {},
   "outputs": [],
   "source": [
    "\n",
    "# Iterate through all the pages stored above\n",
    "for page in pages:\n",
    "\n",
    "    # Declaring filename for each page of PDF as JPG\n",
    "    # For each page, filename will be:\n",
    "    # PDF page 1 -> page_1.jpg\n",
    "    # PDF page 2 -> page_2.jpg\n",
    "    # PDF page 3 -> page_3.jpg\n",
    "    # ....\n",
    "    # PDF page n -> page_n.jpg\n",
    "    filename = '../saves/jpg/page_'+str(image_counter)+'.jpg'\n",
    "\n",
    "    # Save the image of the page in system\n",
    "    page.save(filename, 'JPEG')\n",
    "\n",
    "    # Increment the counter to update filename\n",
    "    image_counter = image_counter + 1"
   ]
  },
  {
   "cell_type": "markdown",
   "id": "tender-contents",
   "metadata": {},
   "source": [
    "\n",
    "## Part #2 - Recognizing text from the images using OCR"
   ]
  },
  {
   "cell_type": "code",
   "execution_count": 6,
   "id": "massive-cursor",
   "metadata": {},
   "outputs": [],
   "source": [
    "\n",
    "# Variable to get count of total number of pages\n",
    "filelimit = image_counter-1"
   ]
  },
  {
   "cell_type": "code",
   "execution_count": 7,
   "id": "extreme-correction",
   "metadata": {},
   "outputs": [],
   "source": [
    "\n",
    "# Creating a text file to write the output\n",
    "outfile = '../saves/txt/out_text.txt'"
   ]
  },
  {
   "cell_type": "code",
   "execution_count": 8,
   "id": "expected-communications",
   "metadata": {},
   "outputs": [],
   "source": [
    "\n",
    "# Open the file in append mode so that\n",
    "# All contents of all images are added to the same file\n",
    "f = open(outfile, 'a')"
   ]
  },
  {
   "cell_type": "code",
   "execution_count": 9,
   "id": "molecular-swimming",
   "metadata": {},
   "outputs": [],
   "source": [
    "\n",
    "# Iterate from 1 to total number of pages\n",
    "for i in range(1, filelimit + 1):\n",
    "\n",
    "    # Set filename to recognize text from\n",
    "    # Again, these files will be:\n",
    "    # page_1.jpg\n",
    "    # page_2.jpg\n",
    "    # ....\n",
    "    # page_n.jpg\n",
    "    filename = '../saves/jpg/page_'+str(i)+'.jpg'\n",
    "\n",
    "    # Recognize the text as string in image using pytesserct\n",
    "    text = str(((pytesseract.image_to_string(Image.open(filename)))))\n",
    "\n",
    "    # The recognized text is stored in variable text\n",
    "    # Any string processing may be applied on text\n",
    "    # Here, basic formatting has been done:\n",
    "    # In many PDFs, at line ending, if a word can't\n",
    "    # be written fully, a 'hyphen' is added.\n",
    "    # The rest of the word is written in the next line\n",
    "    # Eg: This is a sample text this word here GeeksF-\n",
    "    # orGeeks is half on first line, remaining on next.\n",
    "    # To remove this, we replace every '-\\n' to ''.\n",
    "    text = text.replace('-\\n', '')\n",
    "\n",
    "    # Finally, write the processed text to the file.\n",
    "    f.write(text)"
   ]
  },
  {
   "cell_type": "code",
   "execution_count": 10,
   "id": "changing-indication",
   "metadata": {},
   "outputs": [],
   "source": [
    "\n",
    "# Close the file after writing all the text.\n",
    "f.close()"
   ]
  },
  {
   "cell_type": "code",
   "execution_count": 11,
   "id": "continued-weekend",
   "metadata": {},
   "outputs": [],
   "source": [
    "\n",
    "!\"C:\\Program Files\\Notepad++\\notepad++.exe\" {outfile}"
   ]
  },
  {
   "cell_type": "code",
   "execution_count": null,
   "id": "hungry-problem",
   "metadata": {},
   "outputs": [],
   "source": []
  }
 ],
 "metadata": {
  "kernelspec": {
   "display_name": "CPD PDF Demo (Python 3.9.1)",
   "language": "python",
   "name": "cpd_env"
  },
  "language_info": {
   "codemirror_mode": {
    "name": "ipython",
    "version": 3
   },
   "file_extension": ".py",
   "mimetype": "text/x-python",
   "name": "python",
   "nbconvert_exporter": "python",
   "pygments_lexer": "ipython3",
   "version": "3.9.1"
  }
 },
 "nbformat": 4,
 "nbformat_minor": 5
}
