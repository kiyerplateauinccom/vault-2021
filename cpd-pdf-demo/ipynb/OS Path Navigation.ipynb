{
 "cells": [
  {
   "cell_type": "code",
   "execution_count": 1,
   "metadata": {},
   "outputs": [
    {
     "name": "stdout",
     "output_type": "stream",
     "text": [
      "Pretty printing has been turned OFF\n"
     ]
    }
   ],
   "source": [
    "\n",
    "%pprint"
   ]
  },
  {
   "cell_type": "code",
   "execution_count": 4,
   "metadata": {},
   "outputs": [
    {
     "name": "stdout",
     "output_type": "stream",
     "text": [
      "C:\\\\Program Files\\ArcGIS\\Pro\\bin\\Python\\envs\\arcgispro-py3\\Scripts\\jupyter-lab.exe\n",
      "C:\\\\Program Files\\ArcGIS\\Pro\\bin\\Python\\envs\\arcgispro-py3\\Scripts\\jupyter.exe\n",
      "C:\\\\Users\\DaveBabbitt\\anaconda3\\pkgs\\jupyter_core-4.6.3-py38_0\\Scripts\\jupyter.exe\n",
      "C:\\\\Users\\DaveBabbitt\\anaconda3\\pkgs\\jupyter_core-4.7.0-py37h03978a9_0\\Scripts\\jupyter.exe\n",
      "C:\\\\Users\\DaveBabbitt\\anaconda3\\pkgs\\jupyter_core-4.7.0-py38haa244fe_0\\Scripts\\jupyter.exe\n",
      "C:\\\\Users\\DaveBabbitt\\anaconda3\\pkgs\\jupyter_core-4.7.0-py38haa95532_0\\Scripts\\jupyter.exe\n",
      "C:\\\\Users\\DaveBabbitt\\anaconda3\\pkgs\\jupyter_core-4.7.0-py39hcbf5309_1\\Scripts\\jupyter.exe\n",
      "C:\\\\Users\\DaveBabbitt\\anaconda3\\pkgs\\jupyter_core-4.7.1-py38haa95532_0\\Scripts\\jupyter.exe\n",
      "C:\\\\Users\\DaveBabbitt\\anaconda3\\Scripts\\jupyter-lab.exe\n",
      "C:\\\\Users\\DaveBabbitt\\anaconda3\\Scripts\\jupyter.exe\n",
      "C:\\\\Users\\DaveBabbitt\\Documents\\Repositories\\space-track-scenario\\ArcGIS_Pro\\arcgispro-py3\\Scripts\\jupyter-lab.exe\n",
      "C:\\\\Users\\DaveBabbitt\\Documents\\Repositories\\space-track-scenario\\ArcGIS_Pro\\arcgispro-py3\\Scripts\\jupyter.exe\n",
      "C:\\\\Users\\DaveBabbitt\\Documents\\Repositories\\space-track-scenario\\sts\\Scripts\\jupyter-lab.exe\n",
      "C:\\\\Users\\DaveBabbitt\\Documents\\Repositories\\space-track-scenario\\sts\\Scripts\\jupyter.exe\n"
     ]
    }
   ],
   "source": [
    "\n",
    "# Find all the secrets on your hard drive\n",
    "import os\n",
    "\n",
    "root_dir = r'C:\\\\'\n",
    "black_list = ['$RECYCLE.BIN', '$Recycle.Bin', '.git']\n",
    "for sub_directory, directories_list, files_list in os.walk(root_dir):\n",
    "    if all(map(lambda x: x not in sub_directory, black_list)):\n",
    "        for file_name in files_list:\n",
    "            if (file_name in ['jupyter.exe', 'jupyter-lab.exe']):\n",
    "                file_path = os.path.join(sub_directory, file_name)\n",
    "                print(f'{file_path}')"
   ]
  },
  {
   "cell_type": "code",
   "execution_count": 2,
   "metadata": {},
   "outputs": [],
   "source": [
    "\n",
    "# Look for various files\n",
    "black_list = ['$RECYCLE.BIN', '$Recycle.Bin', '.git']\n",
    "root_dir = r'C:\\Users\\DaveBabbitt\\Documents\\Repositories\\vault-2021\\CPD_PDF_Demo'\n",
    "new_str = 'cpd_pdf_demo'\n",
    "for sub_directory, directories_list, files_list in os.walk(os.path.join(root_dir, 'ps1')):\n",
    "    if all(map(lambda x: x not in sub_directory, black_list)):\n",
    "        for file_name in files_list:\n",
    "            old_file_path = os.path.join(sub_directory, file_name)\n",
    "            new_file_path = os.path.join(os.path.join(root_dir, 'ps1'), file_name.replace('.ps1', '.bash'))\n",
    "            os.rename(old_file_path, new_file_path)"
   ]
  },
  {
   "cell_type": "code",
   "execution_count": null,
   "metadata": {},
   "outputs": [],
   "source": [
    "\n",
    "import sys\n",
    "\n",
    "# After this has completed, run these commands in a PowerShell window:\n",
    "# cd $Env:UserProfile\\Documents\\Repositories\\space-track-scenario\\ps1\n",
    "# clear\n",
    "# .\\create_space_track_scenario_temp_environment_yml_file.ps1\n",
    "command_str = f'{sys.executable} -m pip install C:\\\\Users\\\\DaveBabbitt\\\\Downloads\\\\Fiona-1.8.18-cp38-cp38-win_amd64.whl'\n",
    "print(command_str)\n",
    "!{command_str}"
   ]
  },
  {
   "cell_type": "code",
   "execution_count": 4,
   "metadata": {},
   "outputs": [
    {
     "name": "stdout",
     "output_type": "stream",
     "text": [
      "C:\\Users\\DaveBabbitt\\anaconda3\\python.exe -m pip install --upgrade geopandas\n",
      "Collecting geopandas\n",
      "  Using cached geopandas-0.8.1-py2.py3-none-any.whl (962 kB)\n",
      "Requirement already satisfied: pandas>=0.23.0 in c:\\users\\davebabbitt\\anaconda3\\lib\\site-packages (from geopandas) (1.2.0)\n",
      "Requirement already satisfied: numpy>=1.16.5 in c:\\users\\davebabbitt\\anaconda3\\lib\\site-packages (from pandas>=0.23.0->geopandas) (1.19.5)\n",
      "Requirement already satisfied: python-dateutil>=2.7.3 in c:\\users\\davebabbitt\\anaconda3\\lib\\site-packages (from pandas>=0.23.0->geopandas) (2.8.1)\n",
      "Requirement already satisfied: pytz>=2017.3 in c:\\users\\davebabbitt\\anaconda3\\lib\\site-packages (from pandas>=0.23.0->geopandas) (2020.5)\n",
      "Collecting pyproj>=2.2.0\n",
      "  Using cached pyproj-3.0.0.post1-cp38-cp38-win_amd64.whl (14.4 MB)\n",
      "Requirement already satisfied: certifi in c:\\users\\davebabbitt\\anaconda3\\lib\\site-packages (from pyproj>=2.2.0->geopandas) (2020.12.5)\n",
      "Requirement already satisfied: six>=1.5 in c:\\users\\davebabbitt\\anaconda3\\lib\\site-packages (from python-dateutil>=2.7.3->pandas>=0.23.0->geopandas) (1.15.0)\n",
      "Collecting fiona\n",
      "  Using cached Fiona-1.8.18.tar.gz (1.3 MB)\n"
     ]
    },
    {
     "name": "stderr",
     "output_type": "stream",
     "text": [
      "    ERROR: Command errored out with exit status 1:\n",
      "     command: 'C:\\Users\\DaveBabbitt\\anaconda3\\python.exe' -c 'import sys, setuptools, tokenize; sys.argv[0] = '\"'\"'C:\\\\Users\\\\DaveBabbitt\\\\AppData\\\\Local\\\\Temp\\\\pip-install-hq4jhl_6\\\\fiona_de357b06d988446999b321dde1d6e9c5\\\\setup.py'\"'\"'; __file__='\"'\"'C:\\\\Users\\\\DaveBabbitt\\\\AppData\\\\Local\\\\Temp\\\\pip-install-hq4jhl_6\\\\fiona_de357b06d988446999b321dde1d6e9c5\\\\setup.py'\"'\"';f=getattr(tokenize, '\"'\"'open'\"'\"', open)(__file__);code=f.read().replace('\"'\"'\\r\\n'\"'\"', '\"'\"'\\n'\"'\"');f.close();exec(compile(code, __file__, '\"'\"'exec'\"'\"'))' egg_info --egg-base 'C:\\Users\\DaveBabbitt\\AppData\\Local\\Temp\\pip-pip-egg-info-f0atpbwb'\n",
      "         cwd: C:\\Users\\DaveBabbitt\\AppData\\Local\\Temp\\pip-install-hq4jhl_6\\fiona_de357b06d988446999b321dde1d6e9c5\\\n",
      "    Complete output (1 lines):\n",
      "    A GDAL API version must be specified. Provide a path to gdal-config using a GDAL_CONFIG environment variable or use a GDAL_VERSION environment variable.\n",
      "    ----------------------------------------\n",
      "ERROR: Command errored out with exit status 1: python setup.py egg_info Check the logs for full command output.\n"
     ]
    }
   ],
   "source": [
    "\n",
    "import sys\n",
    "\n",
    "# After this has completed, run these commands in a PowerShell window:\n",
    "# cd $Env:UserProfile\\Documents\\Repositories\\space-track-scenario\\ps1\n",
    "# clear\n",
    "# .\\create_space_track_scenario_temp_environment_yml_file.ps1\n",
    "command_str = f'{sys.executable} -m pip install --upgrade geopandas'\n",
    "print(command_str)\n",
    "!{command_str}"
   ]
  },
  {
   "cell_type": "code",
   "execution_count": 3,
   "metadata": {},
   "outputs": [
    {
     "name": "stdout",
     "output_type": "stream",
     "text": [
      "\"C:\\Users\\DaveBabbitt\\anaconda3\\python.exe\" --version\n",
      "Python 3.8.5\n"
     ]
    }
   ],
   "source": [
    "\n",
    "import sys\n",
    "\n",
    "# After this has completed, run these commands in a PowerShell window:\n",
    "# cd $Env:UserProfile\\Documents\\Repositories\\space-track-scenario\\ps1\n",
    "# clear\n",
    "# .\\create_space_track_scenario_temp_environment_yml_file.ps1\n",
    "command_str = f'\"{sys.executable}\" --version'\n",
    "print(command_str)\n",
    "!{command_str}"
   ]
  },
  {
   "cell_type": "code",
   "execution_count": 3,
   "metadata": {},
   "outputs": [
    {
     "name": "stdout",
     "output_type": "stream",
     "text": [
      "C:\\Users\\dev\\Documents\\Repositories\\space-track-scenario\\ipynb\\OS Path Navigation.ipynb\n",
      "['s.attempt_to_pickle', 's.data_csv_folder', 's.data_folder', 's.encoding_type', 's.load_csv', 's.load_dataframes', 's.load_object', 's.pickle_exists', 's.save_dataframes', 's.saves_csv_folder', 's.saves_folder', 's.saves_pickle_folder', 's.store_objects']\n"
     ]
    },
    {
     "data": {
      "text/plain": [
       "['In', 'Out', 'SequenceMatcher', 'Storage', 'check_4_doubles', 'check_for_typos', 'command_str', 'conjunctify_list', 'copyfile', 'csv', 'encoding', 'example_iterrows', 'exit', 'get_all_directories_containing', 'get_all_files_containing', 'get_classifier', 'get_column_descriptions', 'get_data_structs_dataframe', 'get_datastructure_prediction', 'get_dir_tree', 'get_git_lfs_track_commands', 'get_importances', 'get_input_sample', 'get_ipython', 'get_max_rsquared_adj', 'get_module_version', 'get_modules_dataframe', 'get_notebook_path', 'get_page_tables', 'get_specific_gitignore_files', 'get_struct_name', 'humanize_bytes', 'notebook_path', 'np', 'os', 'pd', 'pickle', 'preprocess_data', 'print_all_files_ending_starting_with', 'print_all_files_ending_with', 'print_all_files_starting_with', 'quit', 're', 'remove_empty_folders', 's', 'similar', 'subprocess', 'sys', 'time']"
      ]
     },
     "execution_count": 3,
     "metadata": {},
     "output_type": "execute_result"
    }
   ],
   "source": [
    "\n",
    "%run ../load_magic/storage.py\n",
    "%run ../load_magic/dataframes.py\n",
    "%run ../load_magic/paths.py\n",
    "%run ../load_magic/lists.py\n",
    "%run ../load_magic/environment.py\n",
    "notebook_path = get_notebook_path()\n",
    "print(notebook_path)\n",
    "s = Storage()\n",
    "print(['s.{}'.format(fn) for fn in dir(s) if not fn.startswith('_')])\n",
    "[fn for fn in dir() if not fn.startswith('_')]"
   ]
  },
  {
   "cell_type": "markdown",
   "metadata": {},
   "source": [
    "\n",
    "----"
   ]
  },
  {
   "cell_type": "code",
   "execution_count": 17,
   "metadata": {},
   "outputs": [
    {
     "name": "stdout",
     "output_type": "stream",
     "text": [
      "C:\\\\Program Files\\ArcGIS\\Pro\\bin\\Python\\envs\\arcgispro-py3\\Lib\\site-packages\\zmq\\include\\zmq.h\n",
      "C:\\\\Program Files\\ArcGIS\\Pro\\bin\\Python\\envs\\arcgispro-py3\\Library\\include\\zmq.h\n",
      "C:\\\\Users\\DaveBabbitt\\anaconda3\\Lib\\site-packages\\zmq\\include\\zmq.h\n",
      "C:\\\\Users\\DaveBabbitt\\anaconda3\\Library\\bin\\libzmq.dll: 4.3.3.0\n",
      "C:\\\\Users\\DaveBabbitt\\anaconda3\\Library\\include\\zmq.h\n",
      "C:\\\\Users\\DaveBabbitt\\anaconda3\\pkgs\\pyzmq-20.0.0-py37h0d95fc2_1\\Lib\\site-packages\\zmq\\include\\zmq.h\n",
      "C:\\\\Users\\DaveBabbitt\\anaconda3\\pkgs\\pyzmq-20.0.0-py37hd77b12b_1\\Lib\\site-packages\\zmq\\include\\zmq.h\n",
      "C:\\\\Users\\DaveBabbitt\\anaconda3\\pkgs\\pyzmq-20.0.0-py38hd77b12b_1\\Lib\\site-packages\\zmq\\include\\zmq.h\n",
      "C:\\\\Users\\DaveBabbitt\\anaconda3\\pkgs\\zeromq-4.3.2-ha925a31_3\\Library\\bin\\libzmq.dll: 4.3.3.0\n",
      "C:\\\\Users\\DaveBabbitt\\anaconda3\\pkgs\\zeromq-4.3.2-ha925a31_3\\Library\\include\\zmq.h\n",
      "C:\\\\Users\\DaveBabbitt\\anaconda3\\pkgs\\zeromq-4.3.3-h0e60522_3\\Library\\bin\\libzmq.dll: 4.3.3.0\n",
      "C:\\\\Users\\DaveBabbitt\\anaconda3\\pkgs\\zeromq-4.3.3-h0e60522_3\\Library\\include\\zmq.h\n",
      "C:\\\\Users\\DaveBabbitt\\anaconda3\\pkgs\\zeromq-4.3.3-ha925a31_3\\Library\\bin\\libzmq.dll: 4.3.3.0\n",
      "C:\\\\Users\\DaveBabbitt\\anaconda3\\pkgs\\zeromq-4.3.3-ha925a31_3\\Library\\include\\zmq.h\n",
      "C:\\\\Users\\DaveBabbitt\\Documents\\Repositories\\space-track-scenario\\ArcGIS_Pro\\arcgispro-py3\\Lib\\site-packages\\zmq\\include\\zmq.h\n",
      "C:\\\\Users\\DaveBabbitt\\Documents\\Repositories\\space-track-scenario\\ArcGIS_Pro\\arcgispro-py3\\Library\\include\\zmq.h\n",
      "C:\\\\Users\\DaveBabbitt\\Documents\\Repositories\\space-track-scenario\\sts\\Lib\\site-packages\\zmq\\include\\zmq.h\n",
      "C:\\\\Users\\DaveBabbitt\\Documents\\Repositories\\space-track-scenario\\sts\\Library\\bin\\libzmq.dll: 4.3.3.0\n",
      "C:\\\\Users\\DaveBabbitt\\Documents\\Repositories\\space-track-scenario\\sts\\Library\\include\\zmq.h\n"
     ]
    }
   ],
   "source": [
    "\n",
    "# Find all the secrets on your hard drive\n",
    "from win32api import GetFileVersionInfo, LOWORD, HIWORD\n",
    "\n",
    "root_dir = r'C:\\\\'\n",
    "black_list = ['$RECYCLE.BIN', '$Recycle.Bin', '.git']\n",
    "for sub_directory, directories_list, files_list in os.walk(root_dir):\n",
    "    if all(map(lambda x: x not in sub_directory, black_list)):\n",
    "        for file_name in files_list:\n",
    "            if (file_name in ['libzmq.dll', 'zmq.h', 'libzmq.ilk']):\n",
    "                file_path = os.path.join(sub_directory, file_name)\n",
    "                try:\n",
    "                    info_dict = GetFileVersionInfo(file_path, os.sep)\n",
    "                    ms = info['FileVersionMS']\n",
    "                    ls = info['FileVersionLS']\n",
    "                    print(f'{file_path}: {HIWORD(ms)}.{LOWORD(ms)}.{HIWORD(ls)}.{LOWORD(ls)}')\n",
    "                except:\n",
    "                    print(f'{file_path}')"
   ]
  },
  {
   "cell_type": "code",
   "execution_count": 5,
   "metadata": {},
   "outputs": [
    {
     "name": "stdout",
     "output_type": "stream",
     "text": [
      "# Ignore big files (GitHub will warn you when pushing files larger than 50 MB. You will not be allowed to\n",
      "# push files larger than 100 MB.) Tip: If you regularly push large files to GitHub, consider introducing\n",
      "# Git Large File Storage (Git LFS) as part of your workflow.\n",
      "ArcGIS_Pro/arcgispro-py3/Library/bin/mkl_avx512.dll\n",
      "ArcGIS_Pro/arcgispro-py3/Library/bin/mkl_core.dll\n",
      "data/csv/AIS_2015_01_Zone03.csv\n",
      "data/csv/AIS_2016_01_Zone03.csv\n",
      "data/csv/AIS_2017_01_Zone03.csv\n",
      "data/csv/tle.csv\n",
      "data/gdb/Zone10_2014_01.zip.wzd\n",
      "data/gdb/Zone10_2009_01/Zone10_2009_01.gdb/a0000000c.gdbtable\n",
      "data/gdb/Zone10_2009_01/Zone10_2009_01.gdb/a0000000c.gdbtablx\n",
      "data/gdb/Zone10_2009_01/Zone10_2009_01.gdb/a0000000c.GDB_3_MMSI.atx\n",
      "data/gdb/Zone10_2009_01/Zone10_2009_01.gdb/a0000000c.GDB_3_VoyageID.atx\n",
      "data/gdb/Zone10_2009_01/Zone10_2009_01.gdb/a0000000c.spx\n",
      "data/gdb/Zone10_2010_01/Zone10_2010_01.gdb/a0000000c.gdbtable\n",
      "data/gdb/Zone10_2010_01/Zone10_2010_01.gdb/a0000000c.gdbtablx\n",
      "data/gdb/Zone10_2010_01/Zone10_2010_01.gdb/a0000000c.GDB_6_MMSI.atx\n",
      "data/gdb/Zone10_2010_01/Zone10_2010_01.gdb/a0000000c.GDB_6_VoyageID.atx\n",
      "data/gdb/Zone10_2010_01/Zone10_2010_01.gdb/a0000000c.spx\n",
      "data/gdb/Zone10_2011_01.gdb/Zone10_2011_01.gdb/a0000000c.gdbtable\n",
      "data/gdb/Zone10_2011_01.gdb/Zone10_2011_01.gdb/a0000000c.gdbtablx\n",
      "data/gdb/Zone10_2011_01.gdb/Zone10_2011_01.gdb/a0000000c.spx\n",
      "data/gdb/Zone10_2012_01.gdb/Zone10_2012_01.gdb/a0000000c.gdbtable\n",
      "data/gdb/Zone10_2012_01.gdb/Zone10_2012_01.gdb/a0000000c.gdbtablx\n",
      "data/gdb/Zone10_2012_01.gdb/Zone10_2012_01.gdb/a0000000c.GDB_3_MMSI.atx\n",
      "data/gdb/Zone10_2012_01.gdb/Zone10_2012_01.gdb/a0000000c.GDB_3_VoyageID.atx\n",
      "data/gdb/Zone10_2012_01.gdb/Zone10_2012_01.gdb/a0000000c.spx\n",
      "data/gdb/Zone10_2013_01.gdb/Zone10_2013_01.gdb/a0000000c.gdbtable\n",
      "data/gdb/Zone10_2013_01.gdb/Zone10_2013_01.gdb/a0000000c.gdbtablx\n",
      "data/gdb/Zone10_2013_01.gdb/Zone10_2013_01.gdb/a0000000c.GDB_3_MMSI.atx\n",
      "data/gdb/Zone10_2013_01.gdb/Zone10_2013_01.gdb/a0000000c.GDB_3_VoyageID.atx\n",
      "data/gdb/Zone10_2013_01.gdb/Zone10_2013_01.gdb/a0000000c.spx\n",
      "data/gdb/Zone10_2014_01/Zone10_2014_01.gdb/a0000000c.gdbtable\n",
      "data/gdb/Zone10_2014_01/Zone10_2014_01.gdb/a0000000c.gdbtablx\n",
      "data/gdb/Zone10_2014_01/Zone10_2014_01.gdb/a0000000c.GDB_3_MMSI.atx\n",
      "data/gdb/Zone10_2014_01/Zone10_2014_01.gdb/a0000000c.GDB_3_VoyageID.atx\n",
      "data/gdb/Zone10_2014_01/Zone10_2014_01.gdb/a0000000c.spx\n",
      "data/Scenario_Data/AIS/AIS_2015_01_Zone03.zip\n",
      "data/Scenario_Data/AIS/AIS_2016_01_Zone03.zip\n",
      "data/Scenario_Data/AIS/AIS_2017_01_Zone03.zip\n",
      "data/Scenario_Data/AIS/Zone10_2009_01.zip\n",
      "data/Scenario_Data/AIS/Zone10_2010_01.zip\n",
      "data/Scenario_Data/AIS/Zone10_2011_01.gdb.zip\n",
      "data/Scenario_Data/AIS/Zone10_2012_01.gdb.zip\n",
      "data/Scenario_Data/AIS/Zone10_2013_01.gdb.zip\n",
      "data/Scenario_Data/AIS/Zone10_2014_01.zip\n",
      "data/Scenario_Data/AIS/Zone10_2014_01.zip.wzd\n",
      "data/Scenario_Data/TLE/tle2004_1of8.txt.zip\n",
      "data/Scenario_Data/TLE/tle2004_2of8.txt.zip\n",
      "data/Scenario_Data/TLE/tle2004_3of8.txt.zip\n",
      "data/Scenario_Data/TLE/tle2004_4of8.txt.zip\n",
      "data/Scenario_Data/TLE/tle2004_6of8.txt.zip\n",
      "data/Scenario_Data/TLE/tle2004_7of8.txt.zip\n",
      "data/Scenario_Data/TLE/tle2004_8of8.txt.zip\n",
      "data/Scenario_Data/TLE/tle2005.txt.zip\n",
      "data/Scenario_Data/TLE/tle2006.txt.zip\n",
      "data/Scenario_Data/TLE/tle2007.txt.zip\n",
      "data/Scenario_Data/TLE/tle2008.txt.zip\n",
      "data/Scenario_Data/TLE/tle2009.txt.zip\n",
      "data/Scenario_Data/TLE/tle2010.txt.zip\n",
      "data/Scenario_Data/TLE/tle2011.txt.zip\n",
      "data/Scenario_Data/TLE/tle2012.txt.zip\n",
      "data/Scenario_Data/TLE/tle2013.txt.zip\n",
      "data/Scenario_Data/TLE/tle2014.txt.zip\n",
      "data/Scenario_Data/TLE/tle2015.txt.zip\n",
      "data/Scenario_Data/TLE/tle2016.txt.zip\n",
      "data/Scenario_Data/TLE/tle2017.txt.zip\n",
      "data/Scenario_Data/TLE/tle2018.txt.zip\n",
      "data/txt/tle2004_1of8.txt\n",
      "data/txt/tle2004_2of8.txt\n",
      "data/txt/tle2004_3of8.txt\n",
      "data/txt/tle2004_4of8.txt\n",
      "data/txt/tle2004_5of8.txt\n",
      "data/txt/tle2004_6of8.txt\n",
      "data/txt/tle2004_7of8.txt\n",
      "data/txt/tle2004_8of8.txt\n",
      "data/txt/tle2005.txt\n",
      "data/txt/tle2006.txt\n",
      "data/txt/tle2007.txt\n",
      "data/txt/tle2008.txt\n",
      "data/txt/tle2009.txt\n",
      "data/txt/tle2010.txt\n",
      "data/txt/tle2011.txt\n",
      "data/txt/tle2012.txt\n",
      "data/txt/tle2013.txt\n",
      "saves/csv/ais_df.csv\n",
      "saves/dumps/ne10_2009_01_Zone10_2009_01_gdb_a00000009_gdbtable.txt\n",
      "saves/dumps/ne10_2009_01_Zone10_2009_01_gdb_a0000000c_gdbtable.txt\n",
      "saves/dumps/ne10_2010_01_Zone10_2010_01_gdb_a0000000c_gdbtable.txt\n",
      "saves/dumps/ne10_2014_01_Zone10_2014_01_gdb_a0000000c_gdbtable.txt\n",
      "saves/dumps/_2011_01_gdb_Zone10_2011_01_gdb_a0000000c_gdbtable.txt\n",
      "saves/dumps/_2012_01_gdb_Zone10_2012_01_gdb_a0000000c_gdbtable.txt\n",
      "saves/dumps/_2013_01_gdb_Zone10_2013_01_gdb_a0000000c_gdbtable.txt\n",
      "sts/Library/bin/libclang.dll\n",
      "sts/Library/bin/mkl_avx512.dll\n",
      "sts/Library/bin/mkl_core.dll\n",
      "sts/Library/bin/mkl_intel_thread.dll\n",
      "sts/Library/bin/pandoc.exe\n",
      "sts/Library/bin/Qt5WebEngineCore_conda.dll\n",
      "sts/Library/lib/libzmq-mt-s-4_3_3.lib\n",
      "\n"
     ]
    }
   ],
   "source": [
    "\n",
    "get_specific_gitignore_files('space-track-scenario', repository_dir=r'C:\\Users\\dev\\Documents\\Repositories')"
   ]
  },
  {
   "cell_type": "code",
   "execution_count": 1,
   "metadata": {},
   "outputs": [],
   "source": [
    "\n",
    "import os\n",
    "import re\n",
    "\n",
    "root_dir = r'C:\\Users\\DaveBabbitt\\Documents\\Repositories\\mne-python\\ps1'\n",
    "for sub_directory, directories_list, files_list in os.walk(root_dir):\n",
    "    for old_file_name in files_list:\n",
    "        if 'space_track_scenario' in old_file_name:\n",
    "            old_file_path = os.path.join(sub_directory, old_file_name)\n",
    "            new_file_name = re.sub('space_track_scenario', 'mne_python', old_file_name)\n",
    "            new_file_path = os.path.join(sub_directory, new_file_name)"
   ]
  },
  {
   "cell_type": "code",
   "execution_count": 6,
   "metadata": {},
   "outputs": [],
   "source": [
    "\n",
    "for sub_directory, directories_list, files_list in os.walk(root_dir):\n",
    "    if all(map(lambda x: x not in sub_directory, black_list)):\n",
    "        for file_name in files_list:\n",
    "            if (file_name.endswith('.csv')):\n",
    "                file_path = os.path.join(sub_directory, file_name)\n",
    "                if not os.path.isfile(os.path.join(root_dir, file_name)):\n",
    "                    shutil.move(file_path, root_dir)"
   ]
  },
  {
   "cell_type": "code",
   "execution_count": 9,
   "metadata": {},
   "outputs": [
    {
     "data": {
      "text/plain": [
       "'C:\\\\Users\\\\dev\\\\Documents\\\\Repositories\\\\space-track-scenario\\\\data\\\\txt\\\\tle2004_1of8.txt'"
      ]
     },
     "execution_count": 9,
     "metadata": {},
     "output_type": "execute_result"
    }
   ],
   "source": [
    "\n",
    "os.path.abspath(os.path.join(root_dir, file_name))"
   ]
  },
  {
   "cell_type": "markdown",
   "metadata": {},
   "source": [
    "\n",
    "----"
   ]
  },
  {
   "cell_type": "code",
   "execution_count": 18,
   "metadata": {},
   "outputs": [
    {
     "name": "stdout",
     "output_type": "stream",
     "text": [
      "Saving to ../tmp_environment.yml\n"
     ]
    }
   ],
   "source": [
    "\n",
    "from IPython.display import clear_output\n",
    "\n",
    "# Try to create an environment.yml file from an environment folder\n",
    "yml_prefix = r'''\n",
    "# File name: environment.yml\n",
    "\n",
    "# The environment name must be a path and called with the prefix setting like\n",
    "# conda env update --prefix $EnvironmentPath --file environment.yml --prune\n",
    "# if not in the envs folder\n",
    "name: C:\\Users\\dev\\Documents\\Repositories\\space-track-scenario\\sts\n",
    "\n",
    "# Specify the conda channels that you wish to grab packages from, in order of priority.\n",
    "channels:\n",
    "  - conda-forge\n",
    "  - defaults\n",
    "\n",
    "# Specify the packages that you would like to install inside your environment.\n",
    "# Version numbers are allowed, and conda will automatically use its dependency solver\n",
    "# to ensure that all packages work with one another.\n",
    "dependencies:\n",
    "  # Base Python Stuff\n",
    "  # Jupyter Lab Stuff\n",
    "  # Other Stuff\n",
    "  - '''\n",
    "yml_infix = '''\n",
    "  - '''\n",
    "yml_suffix = r'''\n",
    "  #####Maybe below are not conda-installable######\n",
    "  \n",
    "  # There are some packages which are not conda-installable.\n",
    "  # You can put the pip dependencies here instead.\n",
    "  - pip:\n",
    "    #####Test these to see if conda-installable######\n",
    "prefix: C:\\Users\\dev\\Documents\\Repositories\\space-track-scenario\\sts'''\n",
    "env_folder = r'C:\\Users\\dev\\Documents\\Repositories\\space-track-scenario\\arcgispro-py3\\Lib\\site-packages'\n",
    "folder_names_list = [n for n in os.listdir(env_folder) if os.path.isdir(os.path.join(env_folder, n)) and (not n.endswith('-info'))]\n",
    "file_contents = yml_prefix + yml_infix.join(sorted(folder_names_list)) + yml_suffix\n",
    "file_path = '../tmp_environment.yml'\n",
    "print(f'Saving to {file_path}')\n",
    "with open(file_path, 'w') as f:\n",
    "    print(file_contents, file=f)\n",
    "clear_output(wait=True)"
   ]
  },
  {
   "cell_type": "code",
   "execution_count": 19,
   "metadata": {},
   "outputs": [],
   "source": [
    "\n",
    "# Running Compare It! to compare the old and new yml files\n",
    "compareit_str = r'C:\\Program Files (x86)\\Compare It!\\wincmp3.exe'\n",
    "!\"{compareit_str}\" \"{os.path.abspath('../environment.yml')}\" \"{os.path.abspath('../tmp_environment.yml')}\""
   ]
  },
  {
   "cell_type": "code",
   "execution_count": 4,
   "metadata": {},
   "outputs": [],
   "source": [
    "\n",
    "# Research reading file types\n",
    "black_list = ['$RECYCLE.BIN', '$Recycle.Bin', '.git']\n",
    "google_str = 'https://www.google.com/search?q=%22python%22+read+{}+files'\n",
    "exe_path = r'C:\\Program Files (x86)\\Google\\Chrome\\Application\\chrome.exe'\n",
    "filetype_set = set()\n",
    "root_dir = r'C:\\Users\\dev\\Documents\\Repositories\\space-track-scenario\\data'\n",
    "for sub_directory, directories_list, files_list in os.walk(root_dir):\n",
    "    if all(map(lambda x: x not in sub_directory, black_list)):\n",
    "        for file_name in files_list:\n",
    "            file_type = file_name.split('.')[-1]\n",
    "            filetype_set.add(file_type)\n",
    "for file_type in filetype_set:\n",
    "    url_str = google_str.format(file_type)\n",
    "    !\"{exe_path}\" {url_str}"
   ]
  },
  {
   "cell_type": "code",
   "execution_count": null,
   "metadata": {},
   "outputs": [],
   "source": []
  }
 ],
 "metadata": {
  "kernelspec": {
   "display_name": "Python 3",
   "language": "python",
   "name": "python3"
  },
  "language_info": {
   "codemirror_mode": {
    "name": "ipython",
    "version": 3
   },
   "file_extension": ".py",
   "mimetype": "text/x-python",
   "name": "python",
   "nbconvert_exporter": "python",
   "pygments_lexer": "ipython3",
   "version": "3.8.5"
  }
 },
 "nbformat": 4,
 "nbformat_minor": 4
}
