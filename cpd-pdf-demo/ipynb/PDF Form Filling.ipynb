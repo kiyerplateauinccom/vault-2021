{
 "cells": [
  {
   "cell_type": "code",
   "execution_count": null,
   "id": "selective-grammar",
   "metadata": {},
   "outputs": [],
   "source": []
  },
  {
   "cell_type": "code",
   "execution_count": 1,
   "id": "correct-gravity",
   "metadata": {},
   "outputs": [
    {
     "name": "stdout",
     "output_type": "stream",
     "text": [
      "Pretty printing has been turned OFF\n"
     ]
    }
   ],
   "source": [
    "\n",
    "%pprint"
   ]
  },
  {
   "cell_type": "code",
   "execution_count": 2,
   "id": "victorian-postage",
   "metadata": {},
   "outputs": [],
   "source": [
    "\n",
    "import os\n",
    "from PyPDF2 import PdfFileWriter, PdfFileReader\n",
    "from PyPDF2.generic import BooleanObject, NameObject, IndirectObject\n",
    "\n",
    "# cpd-pdf-demo/data/pdf/exfacabst_8_14.pdf\n",
    "home_dir = dict(os.environ)['USERPROFILE']\n",
    "pdf_dir = os.path.join(home_dir, 'Documents', 'Repositories', 'vault-2021', 'cpd-pdf-demo', 'data', 'pdf')\n",
    "infile_name = 'exfacabst_8_14.pdf'\n",
    "infile_path = os.path.join(pdf_dir, infile_name)"
   ]
  },
  {
   "cell_type": "code",
   "execution_count": 3,
   "id": "stuck-december",
   "metadata": {},
   "outputs": [],
   "source": [
    "\n",
    "def set_need_appearances_writer(writer):\n",
    "    # See 12.7.2 and 7.7.2 for more information:\n",
    "    # http://www.adobe.com/content/dam/acom/en/devnet/acrobat/pdfs/PDF32000_2008.pdf\n",
    "    try:\n",
    "        catalog = writer._root_object\n",
    "\n",
    "        # Get the AcroForm tree and add '/NeedAppearances attribute\n",
    "        if '/AcroForm' not in catalog:\n",
    "            writer._root_object.update({NameObject('/AcroForm'): IndirectObject(len(writer._objects), 0, writer)})\n",
    "\n",
    "        need_appearances = NameObject('/NeedAppearances')\n",
    "        writer._root_object['/AcroForm'][need_appearances] = BooleanObject(True)\n",
    "        return writer\n",
    "\n",
    "    except Exception as e:\n",
    "        print('set_need_appearances_writer() catch : ', repr(e))\n",
    "        return writer"
   ]
  },
  {
   "cell_type": "code",
   "execution_count": 4,
   "id": "after-shoulder",
   "metadata": {},
   "outputs": [],
   "source": [
    "\n",
    "field_dictionary = {'doc': 'U.S. DEPARTMENT OF COMMERCE', 'NOAA': 'NATIONAL OCEANIC AND ATMOSPHERIC ADMINISTRATION', 'OF': 'OF',\n",
    "                    'PAGE': 'PAGE', 'PAGES': 'PAGES', 'FACILABSTRACT': 'FACILITIES ABSTRACT', 'AOCP': 'AERONAUTICAL SURVEY PROGRAM',\n",
    "                    'LARPTNAME': 'AIRPORT NAME', 'LCHIEFPARTY': 'CHIEF OF PARTY', 'LCITY': 'CITY', 'LPARTYNUM': 'PARTY NUMBER',\n",
    "                    'LDATE': 'DATE', 'INSTRUCTION': 'INSTRUCTIONS',\n",
    "                    'COMPLETE': 'Under Facility, indicate specific runway served of facility identifier, whichever is applicable',\n",
    "                    'FAC_NAME': 'FACILITY', 'FAC_ID': 'FACILITY ', 'INDICATED ON': 'INDICATED ON', 'HOR': 'HORIZONTAL', 'FILE': 'FILE',\n",
    "                    'VERTICAL': 'VERTICAL', 'FILEB': 'FILE', 'REMARKS': 'REMARKS', '1': '1. ATCT', '2': '2. APBN', '3': '3. GS',\n",
    "                    '4': '4. LOC', '5': '5. DME', '6': '6. IM', '7': '7. MM--LMM', '8': '8. OM--LOM', '9': '9. NDB', '10': '10. VOR',\n",
    "                    '11': '11. TACAN', '12': '12. ASR ', '13': '13. APP LTS', '14': '14. REIL', '15': '15. VASI - PAPI - (Other)',\n",
    "                    '16': '16. Other (Specify)', '18': 'VASI', '19': 'VASI', '17': 'REIL', '1A': None, '2A': None, '3A': '26', '4A': '26',\n",
    "                    '5A': None, '6A': None, '7A': None, '8A': None, '9A': 'DAO', '11A': 'ARH', '13A': None, '15A': '12 & 30', '10A': 'FHU',\n",
    "                    '19A': '26', '12A': 'FHU', '14A': '12', '16A': None, '17A': '26', '18A': '8', 'F1': 'OC-5081', 'H1': None, 'V1': None,\n",
    "                    'R1': b'POSITION VERIFIED BY PT         \\r NEW TOP ELEVATON\\r\\r', '20': ' ', '20A': None, '21': ' ', '22': ' ',\n",
    "                    '21A': None, '22A': None, '23A': None, '23': ' ', 'F2': 'OC-5081', 'F3': 'OC-5081', 'F4': 'OC-5081', 'F5': None,\n",
    "                    'F6': None, 'F7': None, 'F8': None, 'F9': 'OC-5081', 'F10': 'OC-5081', 'F11': 'OC-5081', 'F12': 'OC-5081', 'F13': None,\n",
    "                    'F14': None, 'F15': 'RATIO 0982', 'F16': None, 'F17': 'RATIO 0982', 'F18': 'OC-5081', 'F19': 'RATIO 0982', 'F20': None,\n",
    "                    'F21': None, 'F22': None, 'F23': None, 'H2': None, 'H3': None, 'H4': None, 'H5': None, 'H6': None, 'H7': None,\n",
    "                    'H8': None, 'H9': None, 'H10': None, 'H11': None, 'H12': None, 'H13': None, 'H14': 'HV 5', 'H15': None, 'H16': None,\n",
    "                    'H17': None, 'H18': None, 'H19': None, 'H20': None, 'H21': None, 'H22': None, 'H23': None, 'V2': None, 'V3': None,\n",
    "                    'V4': None, 'V5': None, 'V6': None, 'V7': None, 'V8': None, 'V9': None, 'V10': None, 'V11': None, 'V12': None,\n",
    "                    'V13': None, 'V14': None, 'V15': None, 'V16': None, 'V17': None, 'V18': None, 'V19': None, 'V20': None, 'V21': None,\n",
    "                    'V22': None, 'V23': None, 'R2': 'VERIFIED BY PT', 'R3': b'VERIFIED BY PT POS. & BASE ELEV UPDATED\\r',\n",
    "                    'R4': b'VERIFIED BY PT POS. & BASE ELEV UPDATED\\r', 'R5': 'N/A', 'R6': 'N/A', 'R7': 'N/A', 'R8': 'N/A',\n",
    "                    'R9': 'NEW THIS SURVEY', 'R10': 'VERIFIED BY PT    POSITION UPDATED', 'R11': 'VERIFIED BY PT    POSITION UPDATED',\n",
    "                    'R12': 'VERIFIED BY PT    POSITION UPDATED', 'R13': 'N/A', 'R14': 'NEW THIS SURVEY',\n",
    "                    'R15': 'NEW THIS SURVEY  PHOTO IDENTIFIED', 'R16': None, 'R17': 'NEW THIS SURVEY  PHOTO IDENTIFIED',\n",
    "                    'R18': 'VERIFIED BY PT', 'R19': 'NEW THIS SURVEY  PHOTO IDENTIFIED', 'R20': None, 'R21': None, 'R22': None, 'R23': None,\n",
    "                    'CHIEF': 'D. L. ADAMS', 'ARPTNAME': 'SIERRA VISTA MUNICIPAL AIRPORT- LIBBY AAF', 'CITY': 'SIERRA VISTA', 'PARTYNUM': '80',\n",
    "                    'STATE': 'AZ', 'DATE': '14 JUNE 2000', 'OCNUM': '5081', 'LSTATE': 'STATE', 'LOCNUM': 'O.C. NUMBER', 'PAGEA': '1',\n",
    "                    'PAGEB': '1'}"
   ]
  },
  {
   "cell_type": "code",
   "execution_count": 5,
   "id": "ranging-cuisine",
   "metadata": {},
   "outputs": [],
   "source": [
    "\n",
    "inputStream = open(infile_path, 'rb')\n",
    "pdf_reader = PdfFileReader(inputStream, strict=False)\n",
    "if '/AcroForm' in pdf_reader.trailer['/Root']:\n",
    "    pdf_reader.trailer['/Root']['/AcroForm'].update({NameObject('/NeedAppearances'): BooleanObject(True)})"
   ]
  },
  {
   "cell_type": "code",
   "execution_count": 7,
   "id": "micro-easter",
   "metadata": {},
   "outputs": [],
   "source": [
    "\n",
    "for key in field_dictionary.keys():\n",
    "    outfile_name = f'exfacabst_{key}.pdf'\n",
    "    outfile_path = os.path.join(pdf_dir, outfile_name)\n",
    "    field_dict = {}\n",
    "    for k in field_dictionary.keys():\n",
    "        if k == key:\n",
    "            field_dict[k] = k\n",
    "        else:\n",
    "            field_dict[k] = None\n",
    "\n",
    "    pdf_writer = PdfFileWriter()\n",
    "    set_need_appearances_writer(pdf_writer)\n",
    "    if '/AcroForm' in pdf_writer._root_object:\n",
    "        pdf_writer._root_object['/AcroForm'].update({NameObject('/NeedAppearances'): BooleanObject(True)})\n",
    "    pdf_writer.addPage(pdf_reader.getPage(0))\n",
    "    pdf_writer.updatePageFormFieldValues(pdf_writer.getPage(0), field_dict)\n",
    "\n",
    "    with open(outfile_path, 'wb') as outputStream:\n",
    "        pdf_writer.write(outputStream)"
   ]
  },
  {
   "cell_type": "code",
   "execution_count": 8,
   "id": "equal-guinea",
   "metadata": {},
   "outputs": [],
   "source": [
    "\n",
    "inputStream.close()"
   ]
  },
  {
   "cell_type": "code",
   "execution_count": 9,
   "id": "fiscal-liechtenstein",
   "metadata": {},
   "outputs": [],
   "source": [
    "\n",
    "!%windir%\\explorer.exe {os.path.abspath(pdf_dir)}"
   ]
  },
  {
   "cell_type": "code",
   "execution_count": null,
   "id": "outstanding-pound",
   "metadata": {},
   "outputs": [],
   "source": [
    "\n",
    "!\"C:\\Program Files (x86)\\Adobe\\Acrobat Reader DC\\Reader\\AcroRd32.exe\" {os.path.abspath(infile)}"
   ]
  },
  {
   "cell_type": "code",
   "execution_count": null,
   "id": "clinical-profession",
   "metadata": {},
   "outputs": [],
   "source": []
  }
 ],
 "metadata": {
  "kernelspec": {
   "display_name": "Python 3",
   "language": "python",
   "name": "python3"
  },
  "language_info": {
   "codemirror_mode": {
    "name": "ipython",
    "version": 3
   },
   "file_extension": ".py",
   "mimetype": "text/x-python",
   "name": "python",
   "nbconvert_exporter": "python",
   "pygments_lexer": "ipython3",
   "version": "3.8.5"
  }
 },
 "nbformat": 4,
 "nbformat_minor": 5
}
