{
 "cells": [
  {
   "cell_type": "code",
   "execution_count": 6,
   "id": "accurate-deployment",
   "metadata": {},
   "outputs": [
    {
     "name": "stdout",
     "output_type": "stream",
     "text": [
      "Pretty printing has been turned OFF\n"
     ]
    }
   ],
   "source": [
    "\n",
    "%pprint"
   ]
  },
  {
   "cell_type": "code",
   "execution_count": 15,
   "id": "naval-china",
   "metadata": {},
   "outputs": [],
   "source": [
    "\n",
    "import os\n",
    "\n",
    "# cpd-pdf-demo/data/pdf/eanaobck_11_3.pdf\n",
    "home_dir = dict(os.environ)['HOME']\n",
    "pdf_dir = f'{home_dir}/cpd-pdf-demo/data/pdf'\n",
    "pdf_paths_list = []\n",
    "for file_name in os.listdir(pdf_dir):\n",
    "    if file_name.endswith('.pdf'):\n",
    "        file_path = os.path.join(pdf_dir, file_name)\n",
    "        pdf_paths_list.append(file_path)"
   ]
  },
  {
   "cell_type": "code",
   "execution_count": 58,
   "id": "vanilla-argument",
   "metadata": {},
   "outputs": [],
   "source": [
    "\n",
    "import random\n",
    "import sys\n",
    "import PyPDF2"
   ]
  },
  {
   "cell_type": "code",
   "execution_count": 61,
   "id": "rough-brazilian",
   "metadata": {},
   "outputs": [
    {
     "data": {
      "text/plain": [
       "['reader_obj.cacheGetIndirectObject', 'reader_obj.cacheIndirectObject', 'reader_obj.decrypt', 'reader_obj.documentInfo', 'reader_obj.flattenedPages', 'reader_obj.getDestinationPageNumber', 'reader_obj.getDocumentInfo', 'reader_obj.getFields', 'reader_obj.getFormTextFields', 'reader_obj.getIsEncrypted', 'reader_obj.getNamedDestinations', 'reader_obj.getNumPages', 'reader_obj.getObject', 'reader_obj.getOutlines', 'reader_obj.getPage', 'reader_obj.getPageLayout', 'reader_obj.getPageMode', 'reader_obj.getPageNumber', 'reader_obj.getXmpMetadata', 'reader_obj.isEncrypted', 'reader_obj.namedDestinations', 'reader_obj.numPages', 'reader_obj.outlines', 'reader_obj.pageLayout', 'reader_obj.pageMode', 'reader_obj.pages', 'reader_obj.read', 'reader_obj.readNextEndLine', 'reader_obj.readObjectHeader', 'reader_obj.resolvedObjects', 'reader_obj.stream', 'reader_obj.strict', 'reader_obj.trailer', 'reader_obj.xmpMetadata', 'reader_obj.xref', 'reader_obj.xrefIndex', 'reader_obj.xref_objStm']"
      ]
     },
     "execution_count": 61,
     "metadata": {},
     "output_type": "execute_result"
    }
   ],
   "source": [
    "\n",
    "file_path = random.choice(pdf_paths_list)\n",
    "reader_obj = PyPDF2.PdfFileReader(file_path, strict=True, warndest=None, overwriteWarnings=True)\n",
    "[f'reader_obj.{fn}' for fn in dir(reader_obj) if not fn.startswith('_')]"
   ]
  },
  {
   "cell_type": "code",
   "execution_count": 74,
   "id": "mysterious-progressive",
   "metadata": {},
   "outputs": [
    {
     "name": "stdout",
     "output_type": "stream",
     "text": [
      "{'/Author': 'zimmerc', '/CreationDate': 'D:20051128161334Z', '/Creator': 'PScript5.dll Version 5.2', '/ModDate': \"D:20210128140001-05'00'\", '/Producer': 'Acrobat Distiller 5.0.5 (Windows)', '/Title': 'Microsoft Word - TAGGS Document112805.doc'}\n"
     ]
    },
    {
     "data": {
      "text/plain": [
       "{'/Contents': IndirectObject(209, 0), '/CropBox': [0, 0, 612, 792], '/MediaBox': [0, 0, 612, 792], '/Parent': IndirectObject(256, 0), '/Resources': IndirectObject(208, 0), '/Rotate': 90, '/Type': '/Page'}"
      ]
     },
     "execution_count": 74,
     "metadata": {},
     "output_type": "execute_result"
    }
   ],
   "source": [
    "\n",
    "file_name = 'TAGGSDocument112805.pdf'\n",
    "file_path = os.path.join(pdf_dir, file_name)\n",
    "reader_obj = PyPDF2.PdfFileReader(file_path, strict=True, warndest=None, overwriteWarnings=True)\n",
    "print(reader_obj.getDocumentInfo())\n",
    "reader_obj.getPage(reader_obj.getNumPages()-1)"
   ]
  },
  {
   "cell_type": "code",
   "execution_count": 78,
   "id": "breeding-trustee",
   "metadata": {},
   "outputs": [
    {
     "name": "stdout",
     "output_type": "stream",
     "text": [
      "\n",
      "C:\\TEMP\\mwh\\sketch.PDF (/home/jovyan/cpd-pdf-demo/data/pdf/sketch_8_14.pdf)\n",
      "{'SUBJECT': 'SUBJECT', 'ARPT': 'AIRPORT NAME', 'PHOTO': 'PHOTO NUMBER', 'FILE': 'FILE/NUMBER', 'DATE': 'DATE', 'STATE': 'STATE', 'OC': 'OC', 'PAGE': 'PAGE', 'OF': 'OF', 'US': 'U.S. DEPARTMENT OF COMMERCE', 'NOAA': 'NATIONAL OCEANIC AND ATOMOSPHERIC ADMINISTRATION', 'NGS': 'NATIONAL GEODETIC SURVEY', 'SKETCH': 'FIELD SURVEY SKETCH', 'FILETXT': None, 'OCTXT': None, 'SUBJECTTXT': None, 'ARPTTXT': None, 'STATETXT': None, 'PHOTTXT': None, 'DATETXT': None, 'PAGETXT': None, 'OFTXT': None}\n",
      "\n",
      "/home/jovyan/cpd-pdf-demo/data/pdf/exfacabst_8_14.pdf\n",
      "{'doc': 'U.S. DEPARTMENT OF COMMERCE', 'NOAA': 'NATIONAL OCEANIC AND ATMOSPHERIC ADMINISTRATION', 'OF': 'OF', 'PAGE': 'PAGE', 'PAGES': 'PAGES', 'FACILABSTRACT': 'FACILITIES ABSTRACT', 'AOCP': 'AERONAUTICAL SURVEY PROGRAM', 'LARPTNAME': 'AIRPORT NAME', 'LCHIEFPARTY': 'CHIEF OF PARTY', 'LCITY': 'CITY', 'LPARTYNUM': 'PARTY NUMBER', 'LDATE': 'DATE', 'INSTRUCTION': 'INSTRUCTIONS', 'COMPLETE': 'Under Facility, indicate specific runway served of facility identifier, whichever is applicable', 'FAC_NAME': 'FACILITY', 'FAC_ID': 'FACILITY ', 'INDICATED ON': 'INDICATED ON', 'HOR': 'HORIZONTAL', 'FILE': 'FILE', 'VERTICAL': 'VERTICAL', 'FILEB': 'FILE', 'REMARKS': 'REMARKS', '1': '1. ATCT', '2': '2. APBN', '3': '3. GS', '4': '4. LOC', '5': '5. DME', '6': '6. IM', '7': '7. MM--LMM', '8': '8. OM--LOM', '9': '9. NDB', '10': '10. VOR', '11': '11. TACAN', '12': '12. ASR ', '13': '13. APP LTS', '14': '14. REIL', '15': '15. VASI - PAPI - (Other)', '16': '16. Other (Specify)', '18': 'VASI', '19': 'VASI', '17': 'REIL', '1A': None, '2A': None, '3A': '26', '4A': '26', '5A': None, '6A': None, '7A': None, '8A': None, '9A': 'DAO', '11A': 'ARH', '13A': None, '15A': '12 & 30', '10A': 'FHU', '19A': '26', '12A': 'FHU', '14A': '12', '16A': None, '17A': '26', '18A': '8', 'F1': 'OC-5081', 'H1': None, 'V1': None, 'R1': b'POSITION VERIFIED BY PT         \\r NEW TOP ELEVATON\\r\\r', '20': ' ', '20A': None, '21': ' ', '22': ' ', '21A': None, '22A': None, '23A': None, '23': ' ', 'F2': 'OC-5081', 'F3': 'OC-5081', 'F4': 'OC-5081', 'F5': None, 'F6': None, 'F7': None, 'F8': None, 'F9': 'OC-5081', 'F10': 'OC-5081', 'F11': 'OC-5081', 'F12': 'OC-5081', 'F13': None, 'F14': None, 'F15': 'RATIO 0982', 'F16': None, 'F17': 'RATIO 0982', 'F18': 'OC-5081', 'F19': 'RATIO 0982', 'F20': None, 'F21': None, 'F22': None, 'F23': None, 'H2': None, 'H3': None, 'H4': None, 'H5': None, 'H6': None, 'H7': None, 'H8': None, 'H9': None, 'H10': None, 'H11': None, 'H12': None, 'H13': None, 'H14': 'HV 5', 'H15': None, 'H16': None, 'H17': None, 'H18': None, 'H19': None, 'H20': None, 'H21': None, 'H22': None, 'H23': None, 'V2': None, 'V3': None, 'V4': None, 'V5': None, 'V6': None, 'V7': None, 'V8': None, 'V9': None, 'V10': None, 'V11': None, 'V12': None, 'V13': None, 'V14': None, 'V15': None, 'V16': None, 'V17': None, 'V18': None, 'V19': None, 'V20': None, 'V21': None, 'V22': None, 'V23': None, 'R2': 'VERIFIED BY PT', 'R3': b'VERIFIED BY PT POS. & BASE ELEV UPDATED\\r', 'R4': b'VERIFIED BY PT POS. & BASE ELEV UPDATED\\r', 'R5': 'N/A', 'R6': 'N/A', 'R7': 'N/A', 'R8': 'N/A', 'R9': 'NEW THIS SURVEY', 'R10': 'VERIFIED BY PT    POSITION UPDATED', 'R11': 'VERIFIED BY PT    POSITION UPDATED', 'R12': 'VERIFIED BY PT    POSITION UPDATED', 'R13': 'N/A', 'R14': 'NEW THIS SURVEY', 'R15': 'NEW THIS SURVEY  PHOTO IDENTIFIED', 'R16': None, 'R17': 'NEW THIS SURVEY  PHOTO IDENTIFIED', 'R18': 'VERIFIED BY PT', 'R19': 'NEW THIS SURVEY  PHOTO IDENTIFIED', 'R20': None, 'R21': None, 'R22': None, 'R23': None, 'CHIEF': 'D. L. ADAMS', 'ARPTNAME': 'SIERRA VISTA MUNICIPAL AIRPORT- LIBBY AAF', 'CITY': 'SIERRA VISTA', 'PARTYNUM': '80', 'STATE': 'AZ', 'DATE': '14 JUNE 2000', 'OCNUM': '5081', 'LSTATE': 'STATE', 'LOCNUM': 'O.C. NUMBER', 'PAGEA': '1', 'PAGEB': '1'}\n",
      "\n",
      "Microsoft Word - Airport Field Survey Check List.doc (/home/jovyan/cpd-pdf-demo/data/pdf/exgeneralchecklist_9_25.pdf)\n",
      "{'OC_Number': '6807', 'Airport_Name': 'NAMPA MUNICIPAL AIRPORT', 'City': 'NAMPA', 'State': 'ID', 'Party_Chief': 'JIM HARRINGTON', 'Start_Date': 'JULY 15, 1997', 'End_Date': 'JULY 21 1997'}\n",
      "\n",
      "D:\\Share\\pdf\\anaobchk\\anaobck_11_3.PDF (/home/jovyan/cpd-pdf-demo/data/pdf/eanaobck_11_3.pdf)\n",
      "{'arptname': 'RONALD REAGAN WASHINGTON NATIONAL AIRPORT', 'ocnum': '443', 'rwy': '15', 'city': 'WASHINGTON D.C.', 'state': 'D.C.', 'date': '6/10/1999', '1a': '#323', '1b': '#460', '2a': '#323', '3a': '#323', '3b': '#463', '4a': '#323', '4b': '#490', '4c': '#486', '4d': '#384', '5': '#500', '6a': '#330', '6b': '#490', '7a': '#500', '7b': '#330', '7c': '#490', '8a': '#500', '8b': '#330', '8c': '#490', '9a': '#500', '9b': '#330', '9c': '#490', '10a': '#500', '10b': '#330', '10c': '#490', '11': '#449', '12': 'NONE', '13a': '#487', '13b': '#481', '14a': '#487', '14b': '#383'}\n",
      "\n",
      "/home/jovyan/cpd-pdf-demo/data/pdf/eaocobck_9_04_02.pdf\n",
      "{'apt name': 'Fort Wayne International Airport', 'OC#': '156', 'CITY': 'Fort Wayne', 'STATE': 'IN', 'DATE': '7-13-2002', 'HOL': 'NONE', 'MPL': 'NONE', 'H10L': 'NONE', 'H20L': 'NONE', 'H30L': 'NONE', 'H40L': 'NONE', 'EAL': 'NONE', 'PL': 'NONE', 'HOR': '429', 'MPR': '428', 'H30R': 'NA', 'H40R': 'NA', 'EAR': '428', 'PR': '458', 'P3L': '325', 'P6L': 'NONE', 'P9L': 'NONE', 'P12L': 'NONE', 'P3R': 'NONE', 'P6R': '309', 'P9R': '399', 'P12R': '458', 'NM3L': 'NONE', 'NM12L': 'NONE', 'NM9L': 'NONE', 'NM6R': '309', 'NM9R': '399', 'NM12R': 'NONE', 'NM6L': 'NONE', 'NM3R': 'NONE', 'HT9L': 'NONE', 'HT6L': 'NONE', 'HT12L': 'NONE', 'HT3L': 'NONE', 'HT6R': '394', 'HT9R': '393', 'HT12R': '458', 'HT3R': '374', 'PETA2HR': 'NONE', 'PEATBHR': 'NONE', 'PEAT20R': 'NONE', 'PETA2HL': 'NONE', 'PEAT20L': 'NONE', 'PEATBHL': 'NONE', 'OETA2HL': 'NONE', 'OETA2HR': 'NONE', 'OEAT20L': 'NA', 'OEAT20R': 'NA', 'OEATBHR': 'NA', 'OEATBHL': 'NA', 'SEHC': 'NONE', 'SWHC': 'NONE', 'NEHC': 'NONE', 'NWHC': 'NONE', 'RE1': '5', 'RE2': '23', 'H10R': '428', 'H20R': 'NA'}\n",
      "\n",
      "C:\\TEMP\\mwh\\facabcont_8_15.PDF (/home/jovyan/cpd-pdf-demo/data/pdf/facabcont_8_15.pdf)\n",
      "{'com': 'U. S. DEPARTMENT OF COMMERCE', 'NOAA': 'NATIONAL OCEANIC AND ATMOSPHERIC ADMINISTRATION', 'PAGE': 'PAGE', 'OF': 'OF', 'ARPT': 'AIRPORT NAME', 'CITY': 'CITY', 'ST': 'STATE', 'OCNUM': 'O.C. NUMBER', 'nPAGE': None, 'nOF': None, 'nOCNUM': None, 'nARPT': None, 'nCITY': None, 'nST': None, '1A': None, '2A': None, '3A': None, '4A': None, '5A': None, '6A': None, '7A': None, '8A': None, '9A': None, '10A': None, '13A': None, '14A': None, '15A': None, '16A': None, '17A': None, '18A': None, '19A': None, '1B': None, '1C': None, '1D': None, '1E': None, '2B': None, '3B': None, '4B': None, '5B': None, '2C': None, '3C': None, '4C': None, '5C': None, '2D': None, '3D': None, '4D': None, '5D': None, '2E': None, '3E': None, '4E': None, '5E': None, '6B': None, '6C': None, '6D': None, '6E': None, '7B': None, '7C': None, '7D': None, '7E': None, '8B': None, '8C': None, '8D': None, '8E': None, '9B': None, '9C': None, '9D': None, '9E': None, '11A': None, '12A': None, '12B': None, '12C': None, '13B': None, '13C': None, '13D': None, '13E': None, '14B': None, '14C': None, '14D': None, '14E': None, '15B': None, '15C': None, '15D': None, '15E': None, '16B': None, '16C': None, '16D': None, '16E': None, '17B': None, '17C': None, '17D': None, '17E': None, '18B': None, '18C': None, '18D': None, '18E': None, '19B': None, '19C': None, '19D': None, '19E': None, '20A': None, '20B': None, '20C': None, '20D': None, '20E': None, 'B1': None, 'BA': None, 'B2': None, 'B2A': None, 'B3': None, 'B3A': None, 'B4': None, 'B4A': None, 'B5': None, 'B5A': None, '11C': None, '11B': None, '11D': None, '11E': None, '12D': None, '12E': None, '10B': None, 'B1B': None, 'B2B': None, '10C': None, 'B1C': None, 'B2C': None, '10D': None, 'B1D': None, 'B2D': None, '10E': None, 'B1E': None, 'B2E': None, 'B3B': None, 'B3C': None, 'B3D': None, 'B3E': None, 'B4B': None, 'B4C': None, 'B4D': None, 'B4E': None, 'B5B': None, 'B5C': None, 'B5D': None, 'B5E': None}\n"
     ]
    }
   ],
   "source": [
    "\n",
    "title_key = '/Title'\n",
    "for file_path in pdf_paths_list:\n",
    "    reader_obj = PyPDF2.PdfFileReader(file_path, strict=True, warndest=None, overwriteWarnings=True)\n",
    "    field_obj_dict = reader_obj.getFields(tree=None, retval=None, fileobj=None)\n",
    "    if field_obj_dict is not None:\n",
    "        form_text_fields_dict = reader_obj.getFormTextFields()\n",
    "        if len(form_text_fields_dict):\n",
    "            print('')\n",
    "            info_dict = reader_obj.getDocumentInfo()\n",
    "            if title_key in info_dict:\n",
    "                doc_title = info_dict['/Title'].strip()\n",
    "                print(f'{doc_title} ({file_path})')\n",
    "            else:\n",
    "                print(f'{file_path}')\n",
    "            print(form_text_fields_dict)"
   ]
  },
  {
   "cell_type": "code",
   "execution_count": null,
   "id": "amber-prototype",
   "metadata": {},
   "outputs": [],
   "source": []
  }
 ],
 "metadata": {
  "kernelspec": {
   "display_name": "Python 3",
   "language": "python",
   "name": "python3"
  },
  "language_info": {
   "codemirror_mode": {
    "name": "ipython",
    "version": 3
   },
   "file_extension": ".py",
   "mimetype": "text/x-python",
   "name": "python",
   "nbconvert_exporter": "python",
   "pygments_lexer": "ipython3",
   "version": "3.8.5"
  }
 },
 "nbformat": 4,
 "nbformat_minor": 5
}
