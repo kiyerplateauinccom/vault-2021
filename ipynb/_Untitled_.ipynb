{
 "cells": [
  {
   "cell_type": "code",
   "execution_count": null,
   "id": "formal-christianity",
   "metadata": {},
   "outputs": [],
   "source": []
  },
  {
   "cell_type": "code",
   "execution_count": 2,
   "id": "respective-northeast",
   "metadata": {},
   "outputs": [
    {
     "name": "stdout",
     "output_type": "stream",
     "text": [
      "Pretty printing has been turned OFF\n"
     ]
    }
   ],
   "source": [
    "\n",
    "%pprint"
   ]
  },
  {
   "cell_type": "code",
   "execution_count": 4,
   "id": "suffering-mileage",
   "metadata": {},
   "outputs": [
    {
     "data": {
      "text/plain": [
       "['In', 'Out', 'Path', 'bs', 'exit', 'get_ipython', 'get_page_soup', 'os', 'quit', 'random', 're', 'url_regex', 'urllib', 'urlretrieve']"
      ]
     },
     "execution_count": 4,
     "metadata": {},
     "output_type": "execute_result"
    }
   ],
   "source": [
    "\n",
    "%run ../load_magic/soup\n",
    "\n",
    "[f'{fn}' for fn in dir() if not fn.startswith('_')]"
   ]
  },
  {
   "cell_type": "code",
   "execution_count": 11,
   "id": "spatial-toddler",
   "metadata": {},
   "outputs": [],
   "source": [
    "\n",
    "# https://fedvte.usalearning.gov/courses/LOSS/course/videos/pdf/LOSS_D01_S01_T01_STEP.pdf\n",
    "from urllib.request import urlretrieve\n",
    "\n",
    "page_soup = get_page_soup('../data/html/linux_training.html')\n",
    "pdf_dir = '../data/pdf'\n",
    "os.makedirs(name=pdf_dir, exist_ok=True)\n",
    "for link in page_soup.select('a'):\n",
    "    href = link.attrs['href']\n",
    "    if href.endswith('.pdf'):\n",
    "        pdf_url = f'https://fedvte.usalearning.gov/{href[3:]}'.replace(' ', '%20')\n",
    "        file_name = pdf_url.split('/')[-1]\n",
    "        file_path = os.path.join(pdf_dir, file_name)\n",
    "        message_tuple = urlretrieve(url=pdf_url, filename=file_path)"
   ]
  },
  {
   "cell_type": "code",
   "execution_count": null,
   "id": "moral-samba",
   "metadata": {},
   "outputs": [],
   "source": []
  }
 ],
 "metadata": {
  "kernelspec": {
   "display_name": "Python 3",
   "language": "python",
   "name": "python3"
  },
  "language_info": {
   "codemirror_mode": {
    "name": "ipython",
    "version": 3
   },
   "file_extension": ".py",
   "mimetype": "text/x-python",
   "name": "python",
   "nbconvert_exporter": "python",
   "pygments_lexer": "ipython3",
   "version": "3.8.5"
  }
 },
 "nbformat": 4,
 "nbformat_minor": 5
}
